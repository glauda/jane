{
 "cells": [
  {
   "cell_type": "code",
   "execution_count": 6,
   "outputs": [
    {
     "name": "stdout",
     "output_type": "stream",
     "text": [
      "# conda environments:\r\n",
      "#\r\n",
      "base                     /home/fglauda/miniconda3\r\n",
      "group-assur              /home/fglauda/miniconda3/envs/group-assur\r\n",
      "jane                  *  /home/fglauda/miniconda3/envs/jane\r\n",
      "sia                      /home/fglauda/miniconda3/envs/sia\r\n",
      "smart-d                  /home/fglauda/miniconda3/envs/smart-d\r\n",
      "\r\n"
     ]
    }
   ],
   "source": [
    "# Check activated conda env\n",
    "!conda env list\n",
    "# !conda info"
   ],
   "metadata": {
    "collapsed": false,
    "pycharm": {
     "name": "#%%\n"
    }
   }
  },
  {
   "cell_type": "code",
   "execution_count": 85,
   "outputs": [],
   "source": [
    "from bs4 import BeautifulSoup\n",
    "# import datetime\n",
    "from datetime import date, timedelta, datetime\n",
    "import random\n",
    "import requests"
   ],
   "metadata": {
    "collapsed": false,
    "pycharm": {
     "name": "#%%\n"
    }
   }
  },
  {
   "cell_type": "code",
   "execution_count": 88,
   "outputs": [],
   "source": [
    "dt_start = date(2021, 1, 1)\n",
    "dt_end = date(2022, 1, 1)\n",
    "\n",
    "dt_start = datetime.strptime('2021-01-01', '%Y-%m-%d')\n",
    "dt_end = datetime.strptime('2022-01-01', '%Y-%m-%d')\n",
    "\n",
    "\n",
    "def get_random_date(dt_start: datetime, dt_end: datetime) -> datetime:\n",
    "    \"\"\"Generate random date between 2 dates\n",
    "\n",
    "    Args:\n",
    "        dt_start: start date (included)\n",
    "        dt_end: end date (excluded)\n",
    "\n",
    "    Returns: A random date between the 2 boundaries\n",
    "\n",
    "    \"\"\"\n",
    "\n",
    "    time_between_dates = dt_end - dt_start\n",
    "    delta_end_start = time_between_dates.days\n",
    "    random_number_of_days = random.randrange(delta_end_start)\n",
    "\n",
    "    return dt_start + timedelta(days=random_number_of_days)"
   ],
   "metadata": {
    "collapsed": false,
    "pycharm": {
     "name": "#%%\n"
    }
   }
  },
  {
   "cell_type": "code",
   "execution_count": 89,
   "outputs": [],
   "source": [
    "dt_random = get_random_date(dt_start, dt_end)"
   ],
   "metadata": {
    "collapsed": false,
    "pycharm": {
     "name": "#%%\n"
    }
   }
  },
  {
   "cell_type": "code",
   "execution_count": 91,
   "outputs": [
    {
     "name": "stdout",
     "output_type": "stream",
     "text": [
      "2021-10-21 00:00:00\n",
      "2021\n",
      "10\n",
      "21\n"
     ]
    }
   ],
   "source": [
    "print(dt_random)\n",
    "print(dt_random.strftime(\"%Y\"))\n",
    "print(dt_random.strftime(\"%m\"))\n",
    "print(dt_random.strftime(\"%d\"))"
   ],
   "metadata": {
    "collapsed": false,
    "pycharm": {
     "name": "#%%\n"
    }
   }
  },
  {
   "cell_type": "code",
   "execution_count": 22,
   "outputs": [],
   "source": [
    "d_base_url = {\"Towards Data Science\": \"https://towardsdatascience.com/archive\"}"
   ],
   "metadata": {
    "collapsed": false,
    "pycharm": {
     "name": "#%%\n"
    }
   }
  },
  {
   "cell_type": "code",
   "execution_count": 30,
   "outputs": [],
   "source": [
    "year, month, day = dt_random.strftime('%Y'), dt_random.strftime('%m'), dt_random.strftime('%d')\n",
    "url = f\"{d_base_url.get('Towards Data Science')}/{year}/{month}/{day}\""
   ],
   "metadata": {
    "collapsed": false,
    "pycharm": {
     "name": "#%%\n"
    }
   }
  },
  {
   "cell_type": "code",
   "execution_count": 31,
   "outputs": [],
   "source": [
    "response = requests.get(url, allow_redirects=True)"
   ],
   "metadata": {
    "collapsed": false,
    "pycharm": {
     "name": "#%%\n"
    }
   }
  },
  {
   "cell_type": "code",
   "execution_count": 34,
   "outputs": [],
   "source": [
    "page = response.content"
   ],
   "metadata": {
    "collapsed": false,
    "pycharm": {
     "name": "#%%\n"
    }
   }
  },
  {
   "cell_type": "code",
   "execution_count": 35,
   "outputs": [],
   "source": [
    "# cardChromeless\n",
    "soup = BeautifulSoup(page, 'html.parser')"
   ],
   "metadata": {
    "collapsed": false,
    "pycharm": {
     "name": "#%%\n"
    }
   }
  },
  {
   "cell_type": "code",
   "execution_count": null,
   "outputs": [],
   "source": [],
   "metadata": {
    "collapsed": false,
    "pycharm": {
     "name": "#%%\n"
    }
   }
  },
  {
   "cell_type": "code",
   "execution_count": 36,
   "outputs": [],
   "source": [
    "articles = soup.find_all(\n",
    "    \"div\",\n",
    "    class_=\"streamItem streamItem--postPreview js-streamItem\"\n",
    ")"
   ],
   "metadata": {
    "collapsed": false,
    "pycharm": {
     "name": "#%%\n"
    }
   }
  },
  {
   "cell_type": "code",
   "execution_count": 47,
   "outputs": [
    {
     "data": {
      "text/plain": "32"
     },
     "execution_count": 47,
     "metadata": {},
     "output_type": "execute_result"
    }
   ],
   "source": [
    "len(articles)"
   ],
   "metadata": {
    "collapsed": false,
    "pycharm": {
     "name": "#%%\n"
    }
   }
  },
  {
   "cell_type": "code",
   "execution_count": 52,
   "outputs": [],
   "source": [
    "l_links = []\n",
    "\n",
    "for article in articles:\n",
    "    link = article.find_all(\"a\")[4]['href']\n",
    "    l_links.append(link)\n"
   ],
   "metadata": {
    "collapsed": false,
    "pycharm": {
     "name": "#%%\n"
    }
   }
  },
  {
   "cell_type": "code",
   "execution_count": 53,
   "outputs": [
    {
     "data": {
      "text/plain": "['https://towardsdatascience.com/the-complete-guide-to-docker-volumes-1a06051d2cce?source=collection_archive---------0-----------------------',\n 'https://towardsdatascience.com/wide-to-long-data-how-and-when-to-use-pandas-melt-stack-and-wide-to-long-7c1e0f462a98?source=collection_archive---------1-----------------------',\n 'https://towardsdatascience.com/uber-data-scientist-interview-experience-78305114540c?source=collection_archive---------2-----------------------',\n 'https://towardsdatascience.com/how-to-remove-non-stationarity-in-time-series-forecasting-563c05c4bfc7?source=collection_archive---------3-----------------------',\n 'https://towardsdatascience.com/modernize-your-sinful-python-code-with-beautiful-type-hints-4e72e98f6bf1?source=collection_archive---------4-----------------------',\n 'https://towardsdatascience.com/5-different-ways-to-deploy-your-machine-learning-model-with-aws-bd676ab5f8d4?source=collection_archive---------5-----------------------',\n 'https://towardsdatascience.com/10-python-modules-for-full-stack-automation-and-testing-eabccd2f025c?source=collection_archive---------6-----------------------',\n 'https://towardsdatascience.com/side-by-side-comparison-of-strings-in-python-b9491ac858?source=collection_archive---------7-----------------------',\n 'https://towardsdatascience.com/decision-trees-and-random-forests-explained-with-python-implementation-e5ede021a000?source=collection_archive---------8-----------------------',\n 'https://towardsdatascience.com/deepmind-alphafold2-highly-accurate-protein-structure-prediction-7ef0946f60c0?source=collection_archive---------9-----------------------',\n 'https://towardsdatascience.com/a-practical-introduction-to-simulation-modelling-for-data-scientists-a5e32cec0304?source=collection_archive---------10-----------------------',\n 'https://towardsdatascience.com/how-to-learn-matlab-f96160fc46b2?source=collection_archive---------11-----------------------',\n 'https://towardsdatascience.com/how-to-write-a-great-resume-as-a-data-scientist-for-professionals-98359ab19a6e?source=collection_archive---------12-----------------------',\n 'https://towardsdatascience.com/great-books-for-data-science-2-e722c0c19b43?source=collection_archive---------13-----------------------',\n 'https://towardsdatascience.com/for-successful-ai-projects-celebrate-your-graveyard-5e29945a70ad?source=collection_archive---------14-----------------------',\n 'https://towardsdatascience.com/how-to-select-a-data-splitting-method-4cf6bc6991da?source=collection_archive---------15-----------------------',\n 'https://towardsdatascience.com/how-to-overlay-shapefile-data-on-pygmt-maps-3a2d84550780?source=collection_archive---------16-----------------------',\n 'https://towardsdatascience.com/using-workflow-sets-to-screen-and-compare-model-recipe-combinations-for-bank-loan-classification-fcaad2853290?source=collection_archive---------17-----------------------',\n 'https://towardsdatascience.com/create-weather-proof-validations-for-your-time-series-forecasting-model-d456a1037c4f?source=collection_archive---------18-----------------------',\n 'https://towardsdatascience.com/python-for-excel-users-part-1-c44bacff4adc?source=collection_archive---------19-----------------------',\n 'https://towardsdatascience.com/text-simplification-for-the-democratization-of-knowledge-5b3647e4a52?source=collection_archive---------20-----------------------',\n 'https://towardsdatascience.com/4-pandas-functions-for-index-manipulation-5b8c7bd6ab12?source=collection_archive---------21-----------------------',\n 'https://towardsdatascience.com/developing-a-conversational-ai-program-db94bb89e37f?source=collection_archive---------22-----------------------',\n 'https://towardsdatascience.com/custom-layers-in-tensorflow-4dbd7c194b6e?source=collection_archive---------23-----------------------',\n 'https://towardsdatascience.com/demystifying-ml-part1-basic-terminology-linear-regression-a89500a9e?source=collection_archive---------24-----------------------',\n 'https://towardsdatascience.com/how-to-frame-a-product-goal-as-a-machine-learning-problem-a3c55aeb75b2?source=collection_archive---------25-----------------------',\n 'https://towardsdatascience.com/detecting-malware-in-android-apps-a011d84b931b?source=collection_archive---------26-----------------------',\n 'https://towardsdatascience.com/getting-started-with-nlp-in-python-6a14d0bf4cfe?source=collection_archive---------27-----------------------',\n 'https://towardsdatascience.com/preprocessing-textual-data-c0527ef8b8c5?source=collection_archive---------28-----------------------',\n 'https://towardsdatascience.com/morphological-analysis-in-strongly-inflected-languages-623e2cc8a443?source=collection_archive---------29-----------------------',\n 'https://towardsdatascience.com/a-four-step-process-to-handle-continual-learning-in-the-workplace-3ae3a539bd43?source=collection_archive---------30-----------------------',\n 'https://towardsdatascience.com/a-look-at-summer-nighttime-low-temperatures-across-26-cities-in-the-us-9ea596c5f61f?source=collection_archive---------31-----------------------']"
     },
     "execution_count": 53,
     "metadata": {},
     "output_type": "execute_result"
    }
   ],
   "source": [
    "l_links"
   ],
   "metadata": {
    "collapsed": false,
    "pycharm": {
     "name": "#%%\n"
    }
   }
  },
  {
   "cell_type": "code",
   "execution_count": 54,
   "outputs": [],
   "source": [
    "# for link in l_links:\n",
    "\n",
    "link = l_links[0]\n",
    "response = requests.get(link, allow_redirects=True)"
   ],
   "metadata": {
    "collapsed": false,
    "pycharm": {
     "name": "#%%\n"
    }
   }
  },
  {
   "cell_type": "code",
   "execution_count": 65,
   "outputs": [],
   "source": [
    "soup = BeautifulSoup(response.content, 'html.parser')\n",
    "article = soup.find(\"section\")\n",
    "title = article.find(\"h1\").contents[0]"
   ],
   "metadata": {
    "collapsed": false,
    "pycharm": {
     "name": "#%%\n"
    }
   }
  },
  {
   "cell_type": "code",
   "execution_count": 76,
   "outputs": [
    {
     "data": {
      "text/plain": "['https://towardsdatascience.com/the-complete-guide-to-docker-volumes-1a06051d2cce?source=collection_archive---------0-----------------------',\n 'https://towardsdatascience.com/wide-to-long-data-how-and-when-to-use-pandas-melt-stack-and-wide-to-long-7c1e0f462a98?source=collection_archive---------1-----------------------',\n 'https://towardsdatascience.com/uber-data-scientist-interview-experience-78305114540c?source=collection_archive---------2-----------------------',\n 'https://towardsdatascience.com/how-to-remove-non-stationarity-in-time-series-forecasting-563c05c4bfc7?source=collection_archive---------3-----------------------',\n 'https://towardsdatascience.com/modernize-your-sinful-python-code-with-beautiful-type-hints-4e72e98f6bf1?source=collection_archive---------4-----------------------',\n 'https://towardsdatascience.com/5-different-ways-to-deploy-your-machine-learning-model-with-aws-bd676ab5f8d4?source=collection_archive---------5-----------------------',\n 'https://towardsdatascience.com/10-python-modules-for-full-stack-automation-and-testing-eabccd2f025c?source=collection_archive---------6-----------------------',\n 'https://towardsdatascience.com/side-by-side-comparison-of-strings-in-python-b9491ac858?source=collection_archive---------7-----------------------',\n 'https://towardsdatascience.com/decision-trees-and-random-forests-explained-with-python-implementation-e5ede021a000?source=collection_archive---------8-----------------------',\n 'https://towardsdatascience.com/deepmind-alphafold2-highly-accurate-protein-structure-prediction-7ef0946f60c0?source=collection_archive---------9-----------------------',\n 'https://towardsdatascience.com/a-practical-introduction-to-simulation-modelling-for-data-scientists-a5e32cec0304?source=collection_archive---------10-----------------------',\n 'https://towardsdatascience.com/how-to-learn-matlab-f96160fc46b2?source=collection_archive---------11-----------------------',\n 'https://towardsdatascience.com/how-to-write-a-great-resume-as-a-data-scientist-for-professionals-98359ab19a6e?source=collection_archive---------12-----------------------',\n 'https://towardsdatascience.com/great-books-for-data-science-2-e722c0c19b43?source=collection_archive---------13-----------------------',\n 'https://towardsdatascience.com/for-successful-ai-projects-celebrate-your-graveyard-5e29945a70ad?source=collection_archive---------14-----------------------',\n 'https://towardsdatascience.com/how-to-select-a-data-splitting-method-4cf6bc6991da?source=collection_archive---------15-----------------------',\n 'https://towardsdatascience.com/how-to-overlay-shapefile-data-on-pygmt-maps-3a2d84550780?source=collection_archive---------16-----------------------',\n 'https://towardsdatascience.com/using-workflow-sets-to-screen-and-compare-model-recipe-combinations-for-bank-loan-classification-fcaad2853290?source=collection_archive---------17-----------------------',\n 'https://towardsdatascience.com/create-weather-proof-validations-for-your-time-series-forecasting-model-d456a1037c4f?source=collection_archive---------18-----------------------',\n 'https://towardsdatascience.com/python-for-excel-users-part-1-c44bacff4adc?source=collection_archive---------19-----------------------',\n 'https://towardsdatascience.com/text-simplification-for-the-democratization-of-knowledge-5b3647e4a52?source=collection_archive---------20-----------------------',\n 'https://towardsdatascience.com/4-pandas-functions-for-index-manipulation-5b8c7bd6ab12?source=collection_archive---------21-----------------------',\n 'https://towardsdatascience.com/developing-a-conversational-ai-program-db94bb89e37f?source=collection_archive---------22-----------------------',\n 'https://towardsdatascience.com/custom-layers-in-tensorflow-4dbd7c194b6e?source=collection_archive---------23-----------------------',\n 'https://towardsdatascience.com/demystifying-ml-part1-basic-terminology-linear-regression-a89500a9e?source=collection_archive---------24-----------------------',\n 'https://towardsdatascience.com/how-to-frame-a-product-goal-as-a-machine-learning-problem-a3c55aeb75b2?source=collection_archive---------25-----------------------',\n 'https://towardsdatascience.com/detecting-malware-in-android-apps-a011d84b931b?source=collection_archive---------26-----------------------',\n 'https://towardsdatascience.com/getting-started-with-nlp-in-python-6a14d0bf4cfe?source=collection_archive---------27-----------------------',\n 'https://towardsdatascience.com/preprocessing-textual-data-c0527ef8b8c5?source=collection_archive---------28-----------------------',\n 'https://towardsdatascience.com/morphological-analysis-in-strongly-inflected-languages-623e2cc8a443?source=collection_archive---------29-----------------------',\n 'https://towardsdatascience.com/a-four-step-process-to-handle-continual-learning-in-the-workplace-3ae3a539bd43?source=collection_archive---------30-----------------------',\n 'https://towardsdatascience.com/a-look-at-summer-nighttime-low-temperatures-across-26-cities-in-the-us-9ea596c5f61f?source=collection_archive---------31-----------------------']"
     },
     "execution_count": 76,
     "metadata": {},
     "output_type": "execute_result"
    }
   ],
   "source": [
    "l_links"
   ],
   "metadata": {
    "collapsed": false,
    "pycharm": {
     "name": "#%%\n"
    }
   }
  },
  {
   "cell_type": "code",
   "execution_count": 79,
   "outputs": [],
   "source": [
    "import unicodedata\n",
    "from typing import Dict, List\n",
    "\n",
    "def get_article(l_links: List[str]) -> pd.DataFrame:\n",
    "    \"\"\" Extract medium article content from a list of urls\n",
    "\n",
    "    Args:\n",
    "        l_links: list of medium url\n",
    "\n",
    "    Returns:\n",
    "        Dataframe containing the extracted text\n",
    "    \"\"\"\n",
    "\n",
    "    l_articles = []\n",
    "\n",
    "    for link in l_links:\n",
    "        try:\n",
    "            d_article = {}\n",
    "\n",
    "            # Parse web page\n",
    "            data = requests.get(link)\n",
    "            soup = BeautifulSoup(data.content, 'html.parser')\n",
    "\n",
    "            # Get title\n",
    "            title = soup.findAll('title')[0]\n",
    "            title = title.get_text()\n",
    "            d_article['title'] = unicodedata.normalize('NFKD', title)\n",
    "            print(f\"Scraping {title}\")\n",
    "\n",
    "            # Get author\n",
    "            author = soup.findAll('meta', {\"name\": \"author\"})[0]\n",
    "            author = author.get('content')\n",
    "            d_article['author'] = unicodedata.normalize('NFKD', author)\n",
    "\n",
    "            # Set link\n",
    "            d_article['link'] = link\n",
    "\n",
    "            # Get page text\n",
    "            paras = soup.findAll('p')\n",
    "            text = ''\n",
    "            nxt_line = '\\n'\n",
    "            for para in paras:\n",
    "                text += unicodedata.normalize('NFKD',para.get_text()) + nxt_line\n",
    "            d_article['text'] = text\n",
    "\n",
    "            # Update list\n",
    "            l_articles.append(d_article)\n",
    "\n",
    "        except:\n",
    "            # for exceptions caused due to change of format on that page\n",
    "            continue\n",
    "\n",
    "    return pd.DataFrame(l_articles)"
   ],
   "metadata": {
    "collapsed": false,
    "pycharm": {
     "name": "#%%\n"
    }
   }
  },
  {
   "cell_type": "code",
   "execution_count": 80,
   "outputs": [
    {
     "name": "stdout",
     "output_type": "stream",
     "text": [
      "The Complete Guide to Docker Volumes | by Mahbub Zaman | Towards Data Science\n",
      "Pandas Melt(), Stack() and wide_to_long() For Converting Columns into Rows | Towards Data Science\n",
      "Uber Data Scientist Interview Experience | by Aqeel Anwar | Towards Data Science\n",
      "How to Remove Non-Stationarity in Time Series Forecasting | by Bex T. | Towards Data Science\n",
      "Modernize Your Sinful Python Code with Beautiful Type Hints | by Eirik Berge | Towards Data Science\n",
      "5 Different Ways to Deploy your Machine Learning Model with AWS | by Kyle Gallatin | Towards Data Science\n",
      "10 Python Modules for Full Stack Automation and Testing | by Behic Guven | Towards Data Science\n",
      "Side-by-side comparison of strings in Python | by Leo van der Meulen | Towards Data Science\n",
      "Decision Trees and Random Forests — Explained with Python Implementation. | by Puja P. Pathak | Towards Data Science\n",
      "Deepmind AlphaFold2: Highly accurate protein structure prediction | by Mostafa Ibrahim | Towards Data Science\n",
      "A Practical Introduction to Simulation Modelling for Data Scientists | by Tellef Solberg | Towards Data Science\n",
      "How to learn Matlab. All you need to know to begin your… | by Guangyuan(Frank) Li | Towards Data Science\n",
      "How to Write a Great Resume as a Data Scientist — For Professionals | by Pedram Ataee, PhD | Towards Data Science\n",
      "Great Books for Data Science 2. 11 more non-technical books for dealing… | by Duncan McKinnon | Towards Data Science\n",
      "For Successful AI Projects, Celebrate Your Graveyard | by Sandeep Uttamchandani | Towards Data Science\n",
      "How to Select a Data Splitting Method | by Zachary Warnes | Towards Data Science\n",
      "How to overlay Polygon Shapes onto high-resolution maps | by Utpal Kumar | Towards Data Science\n",
      "Using Workflow Sets to Screen and Compare Model-Recipe Combinations for Bank Loan Classification | by Murray Gillin | Towards Data Science\n",
      "Create “Weather-Proof” Validations for your Time Series Forecasting Model | by Rahulraj Singh | Towards Data Science\n",
      "Python for Excel Users — Part 1. Getting started with dealing with data… | by Jonas Schröder | Towards Data Science\n",
      "Text simplification for the democratization of knowledge | by Chris Lemke | Towards Data Science\n",
      "4 Pandas Functions For Index Manipulation | by Soner Yıldırım | Towards Data Science\n",
      "Developing a Conversational AI Program | by Rachel Bimbi, Conversational AI Specialist at EPAM | Towards Data Science\n",
      "Custom Layers in Tensorflow. Enhance the Tensorflow Experience… | by Marco Sanguineti | Towards Data Science\n",
      "Demystifying ML — Part 1: Basic Terminology & Linear Regression | by Ved Vasu Sharma | Towards Data Science\n",
      "How to Frame a Product Goal as a Machine Learning Problem | by Kurtis Pykes | Towards Data Science\n",
      "Data science classification for mobile app malware | Towards Data Science\n",
      "Getting started with NLP in Python | by James Mc Neill | Towards Data Science\n",
      "Preprocessing Textual Data. Using Cleantext for cleaning text… | by Himanshu Sharma | Towards Data Science\n",
      "Morphological analysis in strongly inflected languages | by Stanislav Jirak | Towards Data Science\n",
      "A Four-Step Process to Handle Continual Learning in the Workplace | by Rose Day | Towards Data Science\n",
      "A look at summer nighttime low temperatures across 24 cities in the US | by Sabi Horvat | Towards Data Science\n"
     ]
    }
   ],
   "source": [
    "l_articles = get_article(l_links)"
   ],
   "metadata": {
    "collapsed": false,
    "pycharm": {
     "name": "#%%\n"
    }
   }
  },
  {
   "cell_type": "code",
   "execution_count": 83,
   "outputs": [
    {
     "data": {
      "text/plain": "                                                title  \\\n0   The Complete Guide to Docker Volumes | by Mahb...   \n1   Pandas Melt(), Stack() and wide_to_long() For ...   \n2   Uber Data Scientist Interview Experience | by ...   \n3   How to Remove Non-Stationarity in Time Series ...   \n4   Modernize Your Sinful Python Code with Beautif...   \n5   5 Different Ways to Deploy your Machine Learni...   \n6   10 Python Modules for Full Stack Automation an...   \n7   Side-by-side comparison of strings in Python |...   \n8   Decision Trees and Random Forests — Explained ...   \n9   Deepmind AlphaFold2: Highly accurate protein s...   \n10  A Practical Introduction to Simulation Modelli...   \n11  How to learn Matlab. All you need to know to b...   \n12  How to Write a Great Resume as a Data Scientis...   \n13  Great Books for Data Science 2. 11 more non-te...   \n14  For Successful AI Projects, Celebrate Your Gra...   \n15  How to Select a Data Splitting Method | by Zac...   \n16  How to overlay Polygon Shapes onto high-resolu...   \n17  Using Workflow Sets to Screen and Compare Mode...   \n18  Create “Weather-Proof” Validations for your Ti...   \n19  Python for Excel Users — Part 1. Getting start...   \n20  Text simplification for the democratization of...   \n21  4 Pandas Functions For Index Manipulation | by...   \n22  Developing a Conversational AI Program | by Ra...   \n23  Custom Layers in Tensorflow. Enhance the Tenso...   \n24  Demystifying ML — Part 1: Basic Terminology & ...   \n25  How to Frame a Product Goal as a Machine Learn...   \n26  Data science classification for mobile app mal...   \n27  Getting started with NLP in Python | by James ...   \n28  Preprocessing Textual Data. Using Cleantext fo...   \n29  Morphological analysis in strongly inflected l...   \n30  A Four-Step Process to Handle Continual Learni...   \n31  A look at summer nighttime low temperatures ac...   \n\n                                               author  \\\n0                                        Mahbub Zaman   \n1                                         Susan Maina   \n2                                         Aqeel Anwar   \n3                                              Bex T.   \n4                                         Eirik Berge   \n5                                       Kyle Gallatin   \n6                                         Behic Guven   \n7                                  Leo van der Meulen   \n8                                      Puja P. Pathak   \n9                                     Mostafa Ibrahim   \n10                                     Tellef Solberg   \n11                                Guangyuan(Frank) Li   \n12                                  Pedram Ataee, PhD   \n13                                    Duncan McKinnon   \n14                              Sandeep Uttamchandani   \n15                                     Zachary Warnes   \n16                                        Utpal Kumar   \n17                                      Murray Gillin   \n18                                     Rahulraj Singh   \n19                                    Jonas Schröder   \n20                                        Chris Lemke   \n21                                     Soner Yıldırım   \n22  Rachel Bimbi, Conversational AI Specialist at ...   \n23                                   Marco Sanguineti   \n24                                    Ved Vasu Sharma   \n25                                       Kurtis Pykes   \n26                                        Nadim Kawwa   \n27                                     James Mc Neill   \n28                                    Himanshu Sharma   \n29                                    Stanislav Jirak   \n30                                           Rose Day   \n31                                        Sabi Horvat   \n\n                                                 link  \\\n0   https://towardsdatascience.com/the-complete-gu...   \n1   https://towardsdatascience.com/wide-to-long-da...   \n2   https://towardsdatascience.com/uber-data-scien...   \n3   https://towardsdatascience.com/how-to-remove-n...   \n4   https://towardsdatascience.com/modernize-your-...   \n5   https://towardsdatascience.com/5-different-way...   \n6   https://towardsdatascience.com/10-python-modul...   \n7   https://towardsdatascience.com/side-by-side-co...   \n8   https://towardsdatascience.com/decision-trees-...   \n9   https://towardsdatascience.com/deepmind-alphaf...   \n10  https://towardsdatascience.com/a-practical-int...   \n11  https://towardsdatascience.com/how-to-learn-ma...   \n12  https://towardsdatascience.com/how-to-write-a-...   \n13  https://towardsdatascience.com/great-books-for...   \n14  https://towardsdatascience.com/for-successful-...   \n15  https://towardsdatascience.com/how-to-select-a...   \n16  https://towardsdatascience.com/how-to-overlay-...   \n17  https://towardsdatascience.com/using-workflow-...   \n18  https://towardsdatascience.com/create-weather-...   \n19  https://towardsdatascience.com/python-for-exce...   \n20  https://towardsdatascience.com/text-simplifica...   \n21  https://towardsdatascience.com/4-pandas-functi...   \n22  https://towardsdatascience.com/developing-a-co...   \n23  https://towardsdatascience.com/custom-layers-i...   \n24  https://towardsdatascience.com/demystifying-ml...   \n25  https://towardsdatascience.com/how-to-frame-a-...   \n26  https://towardsdatascience.com/detecting-malwa...   \n27  https://towardsdatascience.com/getting-started...   \n28  https://towardsdatascience.com/preprocessing-t...   \n29  https://towardsdatascience.com/morphological-a...   \n30  https://towardsdatascience.com/a-four-step-pro...   \n31  https://towardsdatascience.com/a-look-at-summe...   \n\n                                                 text  \n0   Towards Data Science\\nJul 17, 2021\\nSave\\nThe ...  \n1   Towards Data Science\\nJul 17, 2021\\nSave\\nResh...  \n2   Towards Data Science\\nJul 17, 2021\\nSave\\nIn t...  \n3   Towards Data Science\\nJul 17, 2021\\nSave\\nUnli...  \n4   Towards Data Science\\nJul 17, 2021\\nSave\\nIn t...  \n5   Towards Data Science\\nJul 17, 2021\\nSave\\nAs a...  \n6   Towards Data Science\\nJul 17, 2021\\nSave\\nIn t...  \n7   Towards Data Science\\nJul 17, 2021\\nSave\\nCurr...  \n8   Towards Data Science\\nJul 17, 2021\\nSave\\nA De...  \n9   Towards Data Science\\nJul 17, 2021\\nSave\\n2 da...  \n10  Towards Data Science\\nJul 17, 2021\\nSave\\nSimu...  \n11  Towards Data Science\\nJul 17, 2021\\nSave\\nMatl...  \n12  Towards Data Science\\nJul 17, 2021\\nSave\\nI re...  \n13  Towards Data Science\\nJul 17, 2021\\nSave\\nMany...  \n14  Towards Data Science\\nJul 17, 2021\\nSave\\nAI t...  \n15  Towards Data Science\\nJul 17, 2021\\nSave\\nSepa...  \n16  Towards Data Science\\nJul 17, 2021\\nSave\\nPyGM...  \n17  Towards Data Science\\nJul 17, 2021\\nSave\\nCons...  \n18  Towards Data Science\\nJul 17, 2021\\nSave\\nTIME...  \n19  Towards Data Science\\nJul 17, 2021\\nSave\\nThis...  \n20  Towards Data Science\\nJul 17, 2021\\nSave\\nLang...  \n21  Towards Data Science\\nJul 17, 2021\\nSave\\nPand...  \n22  Towards Data Science\\nJul 17, 2021\\nSave\\nBy R...  \n23  Towards Data Science\\nJul 17, 2021\\nSave\\nIn m...  \n24  Towards Data Science\\nJul 17, 2021\\nSave\\nMach...  \n25  Towards Data Science\\nJul 17, 2021\\nSave\\nSome...  \n26  Towards Data Science\\nJul 17, 2021\\nSave\\nTL;D...  \n27  Towards Data Science\\nJul 17, 2021\\nSave\\nThe ...  \n28  Towards Data Science\\nJul 17, 2021\\nSave\\nIf y...  \n29  Towards Data Science\\nJul 17, 2021\\nSave\\nKeyw...  \n30  Towards Data Science\\nJul 17, 2021\\nSave\\nSome...  \n31  Towards Data Science\\nJul 17, 2021\\nSave\\nA co...  ",
      "text/html": "<div>\n<style scoped>\n    .dataframe tbody tr th:only-of-type {\n        vertical-align: middle;\n    }\n\n    .dataframe tbody tr th {\n        vertical-align: top;\n    }\n\n    .dataframe thead th {\n        text-align: right;\n    }\n</style>\n<table border=\"1\" class=\"dataframe\">\n  <thead>\n    <tr style=\"text-align: right;\">\n      <th></th>\n      <th>title</th>\n      <th>author</th>\n      <th>link</th>\n      <th>text</th>\n    </tr>\n  </thead>\n  <tbody>\n    <tr>\n      <th>0</th>\n      <td>The Complete Guide to Docker Volumes | by Mahb...</td>\n      <td>Mahbub Zaman</td>\n      <td>https://towardsdatascience.com/the-complete-gu...</td>\n      <td>Towards Data Science\\nJul 17, 2021\\nSave\\nThe ...</td>\n    </tr>\n    <tr>\n      <th>1</th>\n      <td>Pandas Melt(), Stack() and wide_to_long() For ...</td>\n      <td>Susan Maina</td>\n      <td>https://towardsdatascience.com/wide-to-long-da...</td>\n      <td>Towards Data Science\\nJul 17, 2021\\nSave\\nResh...</td>\n    </tr>\n    <tr>\n      <th>2</th>\n      <td>Uber Data Scientist Interview Experience | by ...</td>\n      <td>Aqeel Anwar</td>\n      <td>https://towardsdatascience.com/uber-data-scien...</td>\n      <td>Towards Data Science\\nJul 17, 2021\\nSave\\nIn t...</td>\n    </tr>\n    <tr>\n      <th>3</th>\n      <td>How to Remove Non-Stationarity in Time Series ...</td>\n      <td>Bex T.</td>\n      <td>https://towardsdatascience.com/how-to-remove-n...</td>\n      <td>Towards Data Science\\nJul 17, 2021\\nSave\\nUnli...</td>\n    </tr>\n    <tr>\n      <th>4</th>\n      <td>Modernize Your Sinful Python Code with Beautif...</td>\n      <td>Eirik Berge</td>\n      <td>https://towardsdatascience.com/modernize-your-...</td>\n      <td>Towards Data Science\\nJul 17, 2021\\nSave\\nIn t...</td>\n    </tr>\n    <tr>\n      <th>5</th>\n      <td>5 Different Ways to Deploy your Machine Learni...</td>\n      <td>Kyle Gallatin</td>\n      <td>https://towardsdatascience.com/5-different-way...</td>\n      <td>Towards Data Science\\nJul 17, 2021\\nSave\\nAs a...</td>\n    </tr>\n    <tr>\n      <th>6</th>\n      <td>10 Python Modules for Full Stack Automation an...</td>\n      <td>Behic Guven</td>\n      <td>https://towardsdatascience.com/10-python-modul...</td>\n      <td>Towards Data Science\\nJul 17, 2021\\nSave\\nIn t...</td>\n    </tr>\n    <tr>\n      <th>7</th>\n      <td>Side-by-side comparison of strings in Python |...</td>\n      <td>Leo van der Meulen</td>\n      <td>https://towardsdatascience.com/side-by-side-co...</td>\n      <td>Towards Data Science\\nJul 17, 2021\\nSave\\nCurr...</td>\n    </tr>\n    <tr>\n      <th>8</th>\n      <td>Decision Trees and Random Forests — Explained ...</td>\n      <td>Puja P. Pathak</td>\n      <td>https://towardsdatascience.com/decision-trees-...</td>\n      <td>Towards Data Science\\nJul 17, 2021\\nSave\\nA De...</td>\n    </tr>\n    <tr>\n      <th>9</th>\n      <td>Deepmind AlphaFold2: Highly accurate protein s...</td>\n      <td>Mostafa Ibrahim</td>\n      <td>https://towardsdatascience.com/deepmind-alphaf...</td>\n      <td>Towards Data Science\\nJul 17, 2021\\nSave\\n2 da...</td>\n    </tr>\n    <tr>\n      <th>10</th>\n      <td>A Practical Introduction to Simulation Modelli...</td>\n      <td>Tellef Solberg</td>\n      <td>https://towardsdatascience.com/a-practical-int...</td>\n      <td>Towards Data Science\\nJul 17, 2021\\nSave\\nSimu...</td>\n    </tr>\n    <tr>\n      <th>11</th>\n      <td>How to learn Matlab. All you need to know to b...</td>\n      <td>Guangyuan(Frank) Li</td>\n      <td>https://towardsdatascience.com/how-to-learn-ma...</td>\n      <td>Towards Data Science\\nJul 17, 2021\\nSave\\nMatl...</td>\n    </tr>\n    <tr>\n      <th>12</th>\n      <td>How to Write a Great Resume as a Data Scientis...</td>\n      <td>Pedram Ataee, PhD</td>\n      <td>https://towardsdatascience.com/how-to-write-a-...</td>\n      <td>Towards Data Science\\nJul 17, 2021\\nSave\\nI re...</td>\n    </tr>\n    <tr>\n      <th>13</th>\n      <td>Great Books for Data Science 2. 11 more non-te...</td>\n      <td>Duncan McKinnon</td>\n      <td>https://towardsdatascience.com/great-books-for...</td>\n      <td>Towards Data Science\\nJul 17, 2021\\nSave\\nMany...</td>\n    </tr>\n    <tr>\n      <th>14</th>\n      <td>For Successful AI Projects, Celebrate Your Gra...</td>\n      <td>Sandeep Uttamchandani</td>\n      <td>https://towardsdatascience.com/for-successful-...</td>\n      <td>Towards Data Science\\nJul 17, 2021\\nSave\\nAI t...</td>\n    </tr>\n    <tr>\n      <th>15</th>\n      <td>How to Select a Data Splitting Method | by Zac...</td>\n      <td>Zachary Warnes</td>\n      <td>https://towardsdatascience.com/how-to-select-a...</td>\n      <td>Towards Data Science\\nJul 17, 2021\\nSave\\nSepa...</td>\n    </tr>\n    <tr>\n      <th>16</th>\n      <td>How to overlay Polygon Shapes onto high-resolu...</td>\n      <td>Utpal Kumar</td>\n      <td>https://towardsdatascience.com/how-to-overlay-...</td>\n      <td>Towards Data Science\\nJul 17, 2021\\nSave\\nPyGM...</td>\n    </tr>\n    <tr>\n      <th>17</th>\n      <td>Using Workflow Sets to Screen and Compare Mode...</td>\n      <td>Murray Gillin</td>\n      <td>https://towardsdatascience.com/using-workflow-...</td>\n      <td>Towards Data Science\\nJul 17, 2021\\nSave\\nCons...</td>\n    </tr>\n    <tr>\n      <th>18</th>\n      <td>Create “Weather-Proof” Validations for your Ti...</td>\n      <td>Rahulraj Singh</td>\n      <td>https://towardsdatascience.com/create-weather-...</td>\n      <td>Towards Data Science\\nJul 17, 2021\\nSave\\nTIME...</td>\n    </tr>\n    <tr>\n      <th>19</th>\n      <td>Python for Excel Users — Part 1. Getting start...</td>\n      <td>Jonas Schröder</td>\n      <td>https://towardsdatascience.com/python-for-exce...</td>\n      <td>Towards Data Science\\nJul 17, 2021\\nSave\\nThis...</td>\n    </tr>\n    <tr>\n      <th>20</th>\n      <td>Text simplification for the democratization of...</td>\n      <td>Chris Lemke</td>\n      <td>https://towardsdatascience.com/text-simplifica...</td>\n      <td>Towards Data Science\\nJul 17, 2021\\nSave\\nLang...</td>\n    </tr>\n    <tr>\n      <th>21</th>\n      <td>4 Pandas Functions For Index Manipulation | by...</td>\n      <td>Soner Yıldırım</td>\n      <td>https://towardsdatascience.com/4-pandas-functi...</td>\n      <td>Towards Data Science\\nJul 17, 2021\\nSave\\nPand...</td>\n    </tr>\n    <tr>\n      <th>22</th>\n      <td>Developing a Conversational AI Program | by Ra...</td>\n      <td>Rachel Bimbi, Conversational AI Specialist at ...</td>\n      <td>https://towardsdatascience.com/developing-a-co...</td>\n      <td>Towards Data Science\\nJul 17, 2021\\nSave\\nBy R...</td>\n    </tr>\n    <tr>\n      <th>23</th>\n      <td>Custom Layers in Tensorflow. Enhance the Tenso...</td>\n      <td>Marco Sanguineti</td>\n      <td>https://towardsdatascience.com/custom-layers-i...</td>\n      <td>Towards Data Science\\nJul 17, 2021\\nSave\\nIn m...</td>\n    </tr>\n    <tr>\n      <th>24</th>\n      <td>Demystifying ML — Part 1: Basic Terminology &amp; ...</td>\n      <td>Ved Vasu Sharma</td>\n      <td>https://towardsdatascience.com/demystifying-ml...</td>\n      <td>Towards Data Science\\nJul 17, 2021\\nSave\\nMach...</td>\n    </tr>\n    <tr>\n      <th>25</th>\n      <td>How to Frame a Product Goal as a Machine Learn...</td>\n      <td>Kurtis Pykes</td>\n      <td>https://towardsdatascience.com/how-to-frame-a-...</td>\n      <td>Towards Data Science\\nJul 17, 2021\\nSave\\nSome...</td>\n    </tr>\n    <tr>\n      <th>26</th>\n      <td>Data science classification for mobile app mal...</td>\n      <td>Nadim Kawwa</td>\n      <td>https://towardsdatascience.com/detecting-malwa...</td>\n      <td>Towards Data Science\\nJul 17, 2021\\nSave\\nTL;D...</td>\n    </tr>\n    <tr>\n      <th>27</th>\n      <td>Getting started with NLP in Python | by James ...</td>\n      <td>James Mc Neill</td>\n      <td>https://towardsdatascience.com/getting-started...</td>\n      <td>Towards Data Science\\nJul 17, 2021\\nSave\\nThe ...</td>\n    </tr>\n    <tr>\n      <th>28</th>\n      <td>Preprocessing Textual Data. Using Cleantext fo...</td>\n      <td>Himanshu Sharma</td>\n      <td>https://towardsdatascience.com/preprocessing-t...</td>\n      <td>Towards Data Science\\nJul 17, 2021\\nSave\\nIf y...</td>\n    </tr>\n    <tr>\n      <th>29</th>\n      <td>Morphological analysis in strongly inflected l...</td>\n      <td>Stanislav Jirak</td>\n      <td>https://towardsdatascience.com/morphological-a...</td>\n      <td>Towards Data Science\\nJul 17, 2021\\nSave\\nKeyw...</td>\n    </tr>\n    <tr>\n      <th>30</th>\n      <td>A Four-Step Process to Handle Continual Learni...</td>\n      <td>Rose Day</td>\n      <td>https://towardsdatascience.com/a-four-step-pro...</td>\n      <td>Towards Data Science\\nJul 17, 2021\\nSave\\nSome...</td>\n    </tr>\n    <tr>\n      <th>31</th>\n      <td>A look at summer nighttime low temperatures ac...</td>\n      <td>Sabi Horvat</td>\n      <td>https://towardsdatascience.com/a-look-at-summe...</td>\n      <td>Towards Data Science\\nJul 17, 2021\\nSave\\nA co...</td>\n    </tr>\n  </tbody>\n</table>\n</div>"
     },
     "execution_count": 83,
     "metadata": {},
     "output_type": "execute_result"
    }
   ],
   "source": [
    "import pandas as pd\n",
    "\n",
    "pd.DataFrame(l_articles)"
   ],
   "metadata": {
    "collapsed": false,
    "pycharm": {
     "name": "#%%\n"
    }
   }
  },
  {
   "cell_type": "code",
   "execution_count": 92,
   "outputs": [],
   "source": [
    "df = pd.read_parquet(\"../data/01_raw/medium_extract.parquet\")"
   ],
   "metadata": {
    "collapsed": false,
    "pycharm": {
     "name": "#%%\n"
    }
   }
  },
  {
   "cell_type": "code",
   "execution_count": 93,
   "outputs": [
    {
     "data": {
      "text/plain": "                                                title  \\\n0   3 Tools to Track and Visualize the Execution o...   \n1   3 Beginner Mistakes I’ve Made in My Data Scien...   \n2   Data Apps with Python’s Streamlit | by Thiago ...   \n3   How to Use SQL LEAD and LAG Functions | by Mad...   \n4   Autoencoder For Denoising Images | by Michel K...   \n5   Predict Next Month Transactions with RFM Featu...   \n6   Don’t Be Fooled by the Hype Python’s Got | by ...   \n7   Creating, editing, and merging ONNX pipelines....   \n8   Searching places and their geographic details ...   \n9   Optimization of a weekly production plan with ...   \n10  Dimensional Modelling for Customer Churn | by ...   \n11  Golang vs Python: 6 Questions to Decide Which ...   \n12  Optimized Typing with Python. Tracking and vis...   \n13  End-to-end Computer Vision Pipeline in 5 Minut...   \n14  Building a serverless, containerized batch pre...   \n15  Stepping into the magical world of GANs | by D...   \n16  Total Cognitive Space | by Marcelo Soria-Rodri...   \n17  Phasic Policy Gradient (PPG) Part 2 | by Rohan...   \n18  Should R be Taught in Higher Ed? Not the way i...   \n19  Steps of a Machine Learning Process | by Marco...   \n20  Why Git Is Not Enough for Data Science | by Ma...   \n21  Improve Development Experience On Kubernetes |...   \n22  How Artificial Intelligence Got Real | by TDS ...   \n23  What Kind of Knowledge Does Data Science Produ...   \n24  Creating the CitySpire App | by Sweta Sengupta...   \n\n                      author  \\\n0                Khuyen Tran   \n1           Arunn Thevapalan   \n2            Thiago Carvalho   \n3             Madison Schott   \n4          Michel Kana, Ph.D   \n5          Aigerim Shopenova   \n6                   Iyar Lin   \n7            Maurits Kaptein   \n8               Sourabh Jain   \n9           Soulard Baptiste   \n10                Mike Solty   \n11                Zulie Rane   \n12              Lucas Soares   \n13            Juan Nathaniel   \n14      Sebastian Telsemeyer   \n15      Dr. Saptarsi Goswami   \n16  Marcelo Soria-Rodríguez   \n17              Rohan Tangri   \n18            Jenna Eagleson   \n19              Marco Susilo   \n20             Martin Daniel   \n21           Daniele Fontani   \n22               TDS Editors   \n23              Ben Huberman   \n24            Sweta Sengupta   \n\n                                                 link  \\\n0   https://towardsdatascience.com/3-tools-to-trac...   \n1   https://towardsdatascience.com/3-beginner-mist...   \n2   https://towardsdatascience.com/data-apps-with-...   \n3   https://towardsdatascience.com/how-to-use-sql-...   \n4   https://towardsdatascience.com/autoencoder-for...   \n5   https://towardsdatascience.com/predict-next-mo...   \n6   https://towardsdatascience.com/dont-be-fooled-...   \n7   https://towardsdatascience.com/creating-editin...   \n8   https://towardsdatascience.com/searching-place...   \n9   https://towardsdatascience.com/optimization-of...   \n10  https://towardsdatascience.com/dimensional-mod...   \n11  https://towardsdatascience.com/golang-vs-pytho...   \n12  https://towardsdatascience.com/optimized-typin...   \n13  https://towardsdatascience.com/end-to-end-comp...   \n14  https://towardsdatascience.com/building-a-serv...   \n15  https://towardsdatascience.com/stepping-into-t...   \n16  https://towardsdatascience.com/total-cognitive...   \n17  https://towardsdatascience.com/phasic-policy-g...   \n18  https://towardsdatascience.com/should-r-be-tau...   \n19  https://towardsdatascience.com/steps-of-a-mach...   \n20  https://towardsdatascience.com/why-git-is-not-...   \n21  https://towardsdatascience.com/improve-develop...   \n22  https://towardsdatascience.com/how-artificial-...   \n23  https://towardsdatascience.com/what-kind-of-kn...   \n24  https://towardsdatascience.com/creating-the-ci...   \n\n                                                 text         day  \n0   Towards Data Science\\nApr 29, 2021\\nSave\\nHave...  2021-04-29  \n1   Towards Data Science\\nApr 29, 2021\\nSave\\n“You...  2021-04-29  \n2   Towards Data Science\\nApr 29, 2021\\nSave\\nStre...  2021-04-29  \n3   Towards Data Science\\nApr 29, 2021\\nSave\\nIf y...  2021-04-29  \n4   Towards Data Science\\nApr 29, 2021\\nSave\\nIn t...  2021-04-29  \n5   Towards Data Science\\nApr 29, 2021\\nSave\\n“No ...  2021-04-29  \n6   Towards Data Science\\nApr 29, 2021\\nSave\\nIf y...  2021-04-29  \n7   Towards Data Science\\nApr 29, 2021\\nSave\\nOver...  2021-04-29  \n8   Towards Data Science\\nApr 29, 2021\\nSave\\nThe ...  2021-04-29  \n9   Towards Data Science\\nApr 29, 2021\\nSave\\nWe s...  2021-04-29  \n10  Towards Data Science\\nApr 29, 2021\\nSave\\nAlri...  2021-04-29  \n11  Towards Data Science\\nApr 29, 2021\\nSave\\nIn a...  2021-04-29  \n12  Towards Data Science\\nApr 29, 2021\\nSave\\nTypi...  2021-04-29  \n13  Towards Data Science\\nApr 29, 2021\\nSave\\nWrit...  2021-04-29  \n14  Towards Data Science\\nApr 29, 2021\\nSave\\nThe ...  2021-04-29  \n15  Towards Data Science\\nApr 29, 2021\\nSave\\nA ge...  2021-04-29  \n16  Towards Data Science\\nApr 29, 2021\\nSave\\nIt’s...  2021-04-29  \n17  Towards Data Science\\nApr 29, 2021\\nSave\\nIf y...  2021-04-29  \n18  Towards Data Science\\nApr 29, 2021\\nSave\\nSome...  2021-04-29  \n19  Towards Data Science\\nApr 29, 2021\\nSave\\nMLOp...  2021-04-29  \n20  Towards Data Science\\nApr 29, 2021\\nSave\\nTL;D...  2021-04-29  \n21  Towards Data Science\\nApr 29, 2021\\nSave\\nThe ...  2021-04-29  \n22  Towards Data Science\\nThis is an email from Th...  2021-04-29  \n23  Towards Data Science\\nApr 29, 2021\\nSave\\nTaki...  2021-04-29  \n24  Towards Data Science\\nApr 29, 2021\\nSave\\nIn t...  2021-04-29  ",
      "text/html": "<div>\n<style scoped>\n    .dataframe tbody tr th:only-of-type {\n        vertical-align: middle;\n    }\n\n    .dataframe tbody tr th {\n        vertical-align: top;\n    }\n\n    .dataframe thead th {\n        text-align: right;\n    }\n</style>\n<table border=\"1\" class=\"dataframe\">\n  <thead>\n    <tr style=\"text-align: right;\">\n      <th></th>\n      <th>title</th>\n      <th>author</th>\n      <th>link</th>\n      <th>text</th>\n      <th>day</th>\n    </tr>\n  </thead>\n  <tbody>\n    <tr>\n      <th>0</th>\n      <td>3 Tools to Track and Visualize the Execution o...</td>\n      <td>Khuyen Tran</td>\n      <td>https://towardsdatascience.com/3-tools-to-trac...</td>\n      <td>Towards Data Science\\nApr 29, 2021\\nSave\\nHave...</td>\n      <td>2021-04-29</td>\n    </tr>\n    <tr>\n      <th>1</th>\n      <td>3 Beginner Mistakes I’ve Made in My Data Scien...</td>\n      <td>Arunn Thevapalan</td>\n      <td>https://towardsdatascience.com/3-beginner-mist...</td>\n      <td>Towards Data Science\\nApr 29, 2021\\nSave\\n“You...</td>\n      <td>2021-04-29</td>\n    </tr>\n    <tr>\n      <th>2</th>\n      <td>Data Apps with Python’s Streamlit | by Thiago ...</td>\n      <td>Thiago Carvalho</td>\n      <td>https://towardsdatascience.com/data-apps-with-...</td>\n      <td>Towards Data Science\\nApr 29, 2021\\nSave\\nStre...</td>\n      <td>2021-04-29</td>\n    </tr>\n    <tr>\n      <th>3</th>\n      <td>How to Use SQL LEAD and LAG Functions | by Mad...</td>\n      <td>Madison Schott</td>\n      <td>https://towardsdatascience.com/how-to-use-sql-...</td>\n      <td>Towards Data Science\\nApr 29, 2021\\nSave\\nIf y...</td>\n      <td>2021-04-29</td>\n    </tr>\n    <tr>\n      <th>4</th>\n      <td>Autoencoder For Denoising Images | by Michel K...</td>\n      <td>Michel Kana, Ph.D</td>\n      <td>https://towardsdatascience.com/autoencoder-for...</td>\n      <td>Towards Data Science\\nApr 29, 2021\\nSave\\nIn t...</td>\n      <td>2021-04-29</td>\n    </tr>\n    <tr>\n      <th>5</th>\n      <td>Predict Next Month Transactions with RFM Featu...</td>\n      <td>Aigerim Shopenova</td>\n      <td>https://towardsdatascience.com/predict-next-mo...</td>\n      <td>Towards Data Science\\nApr 29, 2021\\nSave\\n“No ...</td>\n      <td>2021-04-29</td>\n    </tr>\n    <tr>\n      <th>6</th>\n      <td>Don’t Be Fooled by the Hype Python’s Got | by ...</td>\n      <td>Iyar Lin</td>\n      <td>https://towardsdatascience.com/dont-be-fooled-...</td>\n      <td>Towards Data Science\\nApr 29, 2021\\nSave\\nIf y...</td>\n      <td>2021-04-29</td>\n    </tr>\n    <tr>\n      <th>7</th>\n      <td>Creating, editing, and merging ONNX pipelines....</td>\n      <td>Maurits Kaptein</td>\n      <td>https://towardsdatascience.com/creating-editin...</td>\n      <td>Towards Data Science\\nApr 29, 2021\\nSave\\nOver...</td>\n      <td>2021-04-29</td>\n    </tr>\n    <tr>\n      <th>8</th>\n      <td>Searching places and their geographic details ...</td>\n      <td>Sourabh Jain</td>\n      <td>https://towardsdatascience.com/searching-place...</td>\n      <td>Towards Data Science\\nApr 29, 2021\\nSave\\nThe ...</td>\n      <td>2021-04-29</td>\n    </tr>\n    <tr>\n      <th>9</th>\n      <td>Optimization of a weekly production plan with ...</td>\n      <td>Soulard Baptiste</td>\n      <td>https://towardsdatascience.com/optimization-of...</td>\n      <td>Towards Data Science\\nApr 29, 2021\\nSave\\nWe s...</td>\n      <td>2021-04-29</td>\n    </tr>\n    <tr>\n      <th>10</th>\n      <td>Dimensional Modelling for Customer Churn | by ...</td>\n      <td>Mike Solty</td>\n      <td>https://towardsdatascience.com/dimensional-mod...</td>\n      <td>Towards Data Science\\nApr 29, 2021\\nSave\\nAlri...</td>\n      <td>2021-04-29</td>\n    </tr>\n    <tr>\n      <th>11</th>\n      <td>Golang vs Python: 6 Questions to Decide Which ...</td>\n      <td>Zulie Rane</td>\n      <td>https://towardsdatascience.com/golang-vs-pytho...</td>\n      <td>Towards Data Science\\nApr 29, 2021\\nSave\\nIn a...</td>\n      <td>2021-04-29</td>\n    </tr>\n    <tr>\n      <th>12</th>\n      <td>Optimized Typing with Python. Tracking and vis...</td>\n      <td>Lucas Soares</td>\n      <td>https://towardsdatascience.com/optimized-typin...</td>\n      <td>Towards Data Science\\nApr 29, 2021\\nSave\\nTypi...</td>\n      <td>2021-04-29</td>\n    </tr>\n    <tr>\n      <th>13</th>\n      <td>End-to-end Computer Vision Pipeline in 5 Minut...</td>\n      <td>Juan Nathaniel</td>\n      <td>https://towardsdatascience.com/end-to-end-comp...</td>\n      <td>Towards Data Science\\nApr 29, 2021\\nSave\\nWrit...</td>\n      <td>2021-04-29</td>\n    </tr>\n    <tr>\n      <th>14</th>\n      <td>Building a serverless, containerized batch pre...</td>\n      <td>Sebastian Telsemeyer</td>\n      <td>https://towardsdatascience.com/building-a-serv...</td>\n      <td>Towards Data Science\\nApr 29, 2021\\nSave\\nThe ...</td>\n      <td>2021-04-29</td>\n    </tr>\n    <tr>\n      <th>15</th>\n      <td>Stepping into the magical world of GANs | by D...</td>\n      <td>Dr. Saptarsi Goswami</td>\n      <td>https://towardsdatascience.com/stepping-into-t...</td>\n      <td>Towards Data Science\\nApr 29, 2021\\nSave\\nA ge...</td>\n      <td>2021-04-29</td>\n    </tr>\n    <tr>\n      <th>16</th>\n      <td>Total Cognitive Space | by Marcelo Soria-Rodri...</td>\n      <td>Marcelo Soria-Rodríguez</td>\n      <td>https://towardsdatascience.com/total-cognitive...</td>\n      <td>Towards Data Science\\nApr 29, 2021\\nSave\\nIt’s...</td>\n      <td>2021-04-29</td>\n    </tr>\n    <tr>\n      <th>17</th>\n      <td>Phasic Policy Gradient (PPG) Part 2 | by Rohan...</td>\n      <td>Rohan Tangri</td>\n      <td>https://towardsdatascience.com/phasic-policy-g...</td>\n      <td>Towards Data Science\\nApr 29, 2021\\nSave\\nIf y...</td>\n      <td>2021-04-29</td>\n    </tr>\n    <tr>\n      <th>18</th>\n      <td>Should R be Taught in Higher Ed? Not the way i...</td>\n      <td>Jenna Eagleson</td>\n      <td>https://towardsdatascience.com/should-r-be-tau...</td>\n      <td>Towards Data Science\\nApr 29, 2021\\nSave\\nSome...</td>\n      <td>2021-04-29</td>\n    </tr>\n    <tr>\n      <th>19</th>\n      <td>Steps of a Machine Learning Process | by Marco...</td>\n      <td>Marco Susilo</td>\n      <td>https://towardsdatascience.com/steps-of-a-mach...</td>\n      <td>Towards Data Science\\nApr 29, 2021\\nSave\\nMLOp...</td>\n      <td>2021-04-29</td>\n    </tr>\n    <tr>\n      <th>20</th>\n      <td>Why Git Is Not Enough for Data Science | by Ma...</td>\n      <td>Martin Daniel</td>\n      <td>https://towardsdatascience.com/why-git-is-not-...</td>\n      <td>Towards Data Science\\nApr 29, 2021\\nSave\\nTL;D...</td>\n      <td>2021-04-29</td>\n    </tr>\n    <tr>\n      <th>21</th>\n      <td>Improve Development Experience On Kubernetes |...</td>\n      <td>Daniele Fontani</td>\n      <td>https://towardsdatascience.com/improve-develop...</td>\n      <td>Towards Data Science\\nApr 29, 2021\\nSave\\nThe ...</td>\n      <td>2021-04-29</td>\n    </tr>\n    <tr>\n      <th>22</th>\n      <td>How Artificial Intelligence Got Real | by TDS ...</td>\n      <td>TDS Editors</td>\n      <td>https://towardsdatascience.com/how-artificial-...</td>\n      <td>Towards Data Science\\nThis is an email from Th...</td>\n      <td>2021-04-29</td>\n    </tr>\n    <tr>\n      <th>23</th>\n      <td>What Kind of Knowledge Does Data Science Produ...</td>\n      <td>Ben Huberman</td>\n      <td>https://towardsdatascience.com/what-kind-of-kn...</td>\n      <td>Towards Data Science\\nApr 29, 2021\\nSave\\nTaki...</td>\n      <td>2021-04-29</td>\n    </tr>\n    <tr>\n      <th>24</th>\n      <td>Creating the CitySpire App | by Sweta Sengupta...</td>\n      <td>Sweta Sengupta</td>\n      <td>https://towardsdatascience.com/creating-the-ci...</td>\n      <td>Towards Data Science\\nApr 29, 2021\\nSave\\nIn t...</td>\n      <td>2021-04-29</td>\n    </tr>\n  </tbody>\n</table>\n</div>"
     },
     "execution_count": 93,
     "metadata": {},
     "output_type": "execute_result"
    }
   ],
   "source": [
    "df"
   ],
   "metadata": {
    "collapsed": false,
    "pycharm": {
     "name": "#%%\n"
    }
   }
  }
 ],
 "metadata": {
  "kernelspec": {
   "display_name": "Python 3",
   "language": "python",
   "name": "python3"
  },
  "language_info": {
   "codemirror_mode": {
    "name": "ipython",
    "version": 2
   },
   "file_extension": ".py",
   "mimetype": "text/x-python",
   "name": "python",
   "nbconvert_exporter": "python",
   "pygments_lexer": "ipython2",
   "version": "2.7.6"
  }
 },
 "nbformat": 4,
 "nbformat_minor": 0
}